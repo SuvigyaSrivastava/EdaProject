{
 "cells": [
  {
   "cell_type": "markdown",
   "id": "a645fdfe",
   "metadata": {
    "papermill": {
     "duration": 0.014136,
     "end_time": "2023-09-13T14:08:07.071877",
     "exception": false,
     "start_time": "2023-09-13T14:08:07.057741",
     "status": "completed"
    },
    "tags": []
   },
   "source": [
    "#### Firstly, Lets import the libraries we are going to use."
   ]
  },
  {
   "cell_type": "code",
   "execution_count": 1,
   "id": "5b4a278c",
   "metadata": {
    "execution": {
     "iopub.execute_input": "2023-09-13T14:08:07.096521Z",
     "iopub.status.busy": "2023-09-13T14:08:07.095830Z",
     "iopub.status.idle": "2023-09-13T14:08:08.727601Z",
     "shell.execute_reply": "2023-09-13T14:08:08.726116Z"
    },
    "papermill": {
     "duration": 1.647397,
     "end_time": "2023-09-13T14:08:08.730753",
     "exception": false,
     "start_time": "2023-09-13T14:08:07.083356",
     "status": "completed"
    },
    "tags": []
   },
   "outputs": [],
   "source": [
    "import pandas as pd #Library for manipulating our dataset\n",
    "import numpy as np #Library for mathematical functions\n",
    "import seaborn as sns #Library for visualize statistical graphs.\n",
    "import matplotlib.pyplot as plt #Library for basic visualization graphs and do more customizations.\n",
    "plt.style.use('ggplot') #Just for aesthetic purposes for our graphs. This is OPTIONAL."
   ]
  },
  {
   "cell_type": "markdown",
   "id": "a1320f88",
   "metadata": {
    "papermill": {
     "duration": 0.011131,
     "end_time": "2023-09-13T14:08:08.753448",
     "exception": false,
     "start_time": "2023-09-13T14:08:08.742317",
     "status": "completed"
    },
    "tags": []
   },
   "source": [
    "#### Now, lets start with importing our dataset."
   ]
  },
  {
   "cell_type": "code",
   "execution_count": 2,
   "id": "084a8117",
   "metadata": {
    "execution": {
     "iopub.execute_input": "2023-09-13T14:08:08.778645Z",
     "iopub.status.busy": "2023-09-13T14:08:08.778232Z",
     "iopub.status.idle": "2023-09-13T14:08:08.945245Z",
     "shell.execute_reply": "2023-09-13T14:08:08.943991Z"
    },
    "papermill": {
     "duration": 0.182749,
     "end_time": "2023-09-13T14:08:08.948275",
     "exception": false,
     "start_time": "2023-09-13T14:08:08.765526",
     "status": "completed"
    },
    "tags": []
   },
   "outputs": [
    {
     "data": {
      "text/html": [
       "<div>\n",
       "<style scoped>\n",
       "    .dataframe tbody tr th:only-of-type {\n",
       "        vertical-align: middle;\n",
       "    }\n",
       "\n",
       "    .dataframe tbody tr th {\n",
       "        vertical-align: top;\n",
       "    }\n",
       "\n",
       "    .dataframe thead th {\n",
       "        text-align: right;\n",
       "    }\n",
       "</style>\n",
       "<table border=\"1\" class=\"dataframe\">\n",
       "  <thead>\n",
       "    <tr style=\"text-align: right;\">\n",
       "      <th></th>\n",
       "      <th>ID</th>\n",
       "      <th>Name</th>\n",
       "      <th>Age</th>\n",
       "      <th>Nationality</th>\n",
       "      <th>Overall</th>\n",
       "      <th>Potential</th>\n",
       "      <th>Club</th>\n",
       "      <th>Value</th>\n",
       "      <th>Wage</th>\n",
       "      <th>Preferred Foot</th>\n",
       "      <th>International Reputation</th>\n",
       "      <th>Skill Moves</th>\n",
       "      <th>Position</th>\n",
       "      <th>Joined</th>\n",
       "      <th>Contract Valid Until</th>\n",
       "      <th>Height</th>\n",
       "      <th>Weight</th>\n",
       "      <th>Release Clause</th>\n",
       "    </tr>\n",
       "  </thead>\n",
       "  <tbody>\n",
       "    <tr>\n",
       "      <th>0</th>\n",
       "      <td>158023</td>\n",
       "      <td>L. Messi</td>\n",
       "      <td>31</td>\n",
       "      <td>Argentina</td>\n",
       "      <td>94</td>\n",
       "      <td>94</td>\n",
       "      <td>FC Barcelona</td>\n",
       "      <td>110500.0</td>\n",
       "      <td>565.0</td>\n",
       "      <td>Left</td>\n",
       "      <td>5.0</td>\n",
       "      <td>4.0</td>\n",
       "      <td>RF</td>\n",
       "      <td>2004</td>\n",
       "      <td>2021-01-01</td>\n",
       "      <td>5.583333</td>\n",
       "      <td>159.0</td>\n",
       "      <td>226500.0</td>\n",
       "    </tr>\n",
       "    <tr>\n",
       "      <th>1</th>\n",
       "      <td>20801</td>\n",
       "      <td>Cristiano Ronaldo</td>\n",
       "      <td>33</td>\n",
       "      <td>Portugal</td>\n",
       "      <td>94</td>\n",
       "      <td>94</td>\n",
       "      <td>Juventus</td>\n",
       "      <td>77000.0</td>\n",
       "      <td>405.0</td>\n",
       "      <td>Right</td>\n",
       "      <td>5.0</td>\n",
       "      <td>5.0</td>\n",
       "      <td>ST</td>\n",
       "      <td>2018</td>\n",
       "      <td>2022-01-01</td>\n",
       "      <td>6.166667</td>\n",
       "      <td>183.0</td>\n",
       "      <td>127100.0</td>\n",
       "    </tr>\n",
       "    <tr>\n",
       "      <th>2</th>\n",
       "      <td>190871</td>\n",
       "      <td>Neymar Jr</td>\n",
       "      <td>26</td>\n",
       "      <td>Brazil</td>\n",
       "      <td>92</td>\n",
       "      <td>93</td>\n",
       "      <td>Paris Saint-Germain</td>\n",
       "      <td>118500.0</td>\n",
       "      <td>290.0</td>\n",
       "      <td>Right</td>\n",
       "      <td>5.0</td>\n",
       "      <td>5.0</td>\n",
       "      <td>LW</td>\n",
       "      <td>2017</td>\n",
       "      <td>2022-01-01</td>\n",
       "      <td>5.750000</td>\n",
       "      <td>150.0</td>\n",
       "      <td>228100.0</td>\n",
       "    </tr>\n",
       "    <tr>\n",
       "      <th>3</th>\n",
       "      <td>193080</td>\n",
       "      <td>De Gea</td>\n",
       "      <td>27</td>\n",
       "      <td>Spain</td>\n",
       "      <td>91</td>\n",
       "      <td>93</td>\n",
       "      <td>Manchester United</td>\n",
       "      <td>72000.0</td>\n",
       "      <td>260.0</td>\n",
       "      <td>Right</td>\n",
       "      <td>4.0</td>\n",
       "      <td>1.0</td>\n",
       "      <td>GK</td>\n",
       "      <td>2011</td>\n",
       "      <td>2020-01-01</td>\n",
       "      <td>6.333333</td>\n",
       "      <td>168.0</td>\n",
       "      <td>138600.0</td>\n",
       "    </tr>\n",
       "    <tr>\n",
       "      <th>4</th>\n",
       "      <td>192985</td>\n",
       "      <td>K. De Bruyne</td>\n",
       "      <td>27</td>\n",
       "      <td>Belgium</td>\n",
       "      <td>91</td>\n",
       "      <td>92</td>\n",
       "      <td>Manchester City</td>\n",
       "      <td>102000.0</td>\n",
       "      <td>355.0</td>\n",
       "      <td>Right</td>\n",
       "      <td>4.0</td>\n",
       "      <td>4.0</td>\n",
       "      <td>RCM</td>\n",
       "      <td>2015</td>\n",
       "      <td>2023-01-01</td>\n",
       "      <td>5.916667</td>\n",
       "      <td>154.0</td>\n",
       "      <td>196400.0</td>\n",
       "    </tr>\n",
       "  </tbody>\n",
       "</table>\n",
       "</div>"
      ],
      "text/plain": [
       "       ID               Name  Age Nationality  Overall  Potential  \\\n",
       "0  158023           L. Messi   31   Argentina       94         94   \n",
       "1   20801  Cristiano Ronaldo   33    Portugal       94         94   \n",
       "2  190871          Neymar Jr   26      Brazil       92         93   \n",
       "3  193080             De Gea   27       Spain       91         93   \n",
       "4  192985       K. De Bruyne   27     Belgium       91         92   \n",
       "\n",
       "                  Club     Value   Wage Preferred Foot  \\\n",
       "0         FC Barcelona  110500.0  565.0           Left   \n",
       "1             Juventus   77000.0  405.0          Right   \n",
       "2  Paris Saint-Germain  118500.0  290.0          Right   \n",
       "3    Manchester United   72000.0  260.0          Right   \n",
       "4      Manchester City  102000.0  355.0          Right   \n",
       "\n",
       "   International Reputation  Skill Moves Position  Joined  \\\n",
       "0                       5.0          4.0       RF    2004   \n",
       "1                       5.0          5.0       ST    2018   \n",
       "2                       5.0          5.0       LW    2017   \n",
       "3                       4.0          1.0       GK    2011   \n",
       "4                       4.0          4.0      RCM    2015   \n",
       "\n",
       "  Contract Valid Until    Height  Weight  Release Clause  \n",
       "0           2021-01-01  5.583333   159.0        226500.0  \n",
       "1           2022-01-01  6.166667   183.0        127100.0  \n",
       "2           2022-01-01  5.750000   150.0        228100.0  \n",
       "3           2020-01-01  6.333333   168.0        138600.0  \n",
       "4           2023-01-01  5.916667   154.0        196400.0  "
      ]
     },
     "execution_count": 2,
     "metadata": {},
     "output_type": "execute_result"
    }
   ],
   "source": [
    "df = pd.read_csv(\"/kaggle/input/fifa19eda/fifa_eda.csv\")\n",
    "df.head() #Shows the starting 5 data from the dataset"
   ]
  },
  {
   "cell_type": "code",
   "execution_count": 3,
   "id": "55fbf4ce",
   "metadata": {
    "execution": {
     "iopub.execute_input": "2023-09-13T14:08:08.977449Z",
     "iopub.status.busy": "2023-09-13T14:08:08.976314Z",
     "iopub.status.idle": "2023-09-13T14:08:08.999981Z",
     "shell.execute_reply": "2023-09-13T14:08:08.998873Z"
    },
    "papermill": {
     "duration": 0.040418,
     "end_time": "2023-09-13T14:08:09.002604",
     "exception": false,
     "start_time": "2023-09-13T14:08:08.962186",
     "status": "completed"
    },
    "tags": []
   },
   "outputs": [
    {
     "data": {
      "text/html": [
       "<div>\n",
       "<style scoped>\n",
       "    .dataframe tbody tr th:only-of-type {\n",
       "        vertical-align: middle;\n",
       "    }\n",
       "\n",
       "    .dataframe tbody tr th {\n",
       "        vertical-align: top;\n",
       "    }\n",
       "\n",
       "    .dataframe thead th {\n",
       "        text-align: right;\n",
       "    }\n",
       "</style>\n",
       "<table border=\"1\" class=\"dataframe\">\n",
       "  <thead>\n",
       "    <tr style=\"text-align: right;\">\n",
       "      <th></th>\n",
       "      <th>ID</th>\n",
       "      <th>Name</th>\n",
       "      <th>Age</th>\n",
       "      <th>Nationality</th>\n",
       "      <th>Overall</th>\n",
       "      <th>Potential</th>\n",
       "      <th>Club</th>\n",
       "      <th>Value</th>\n",
       "      <th>Wage</th>\n",
       "      <th>Preferred Foot</th>\n",
       "      <th>International Reputation</th>\n",
       "      <th>Skill Moves</th>\n",
       "      <th>Position</th>\n",
       "      <th>Joined</th>\n",
       "      <th>Contract Valid Until</th>\n",
       "      <th>Height</th>\n",
       "      <th>Weight</th>\n",
       "      <th>Release Clause</th>\n",
       "    </tr>\n",
       "  </thead>\n",
       "  <tbody>\n",
       "    <tr>\n",
       "      <th>18202</th>\n",
       "      <td>238813</td>\n",
       "      <td>J. Lundstram</td>\n",
       "      <td>19</td>\n",
       "      <td>England</td>\n",
       "      <td>47</td>\n",
       "      <td>65</td>\n",
       "      <td>Crewe Alexandra</td>\n",
       "      <td>60.0</td>\n",
       "      <td>1.0</td>\n",
       "      <td>Right</td>\n",
       "      <td>1.0</td>\n",
       "      <td>2.0</td>\n",
       "      <td>CM</td>\n",
       "      <td>2017</td>\n",
       "      <td>2019-01-01</td>\n",
       "      <td>5.750000</td>\n",
       "      <td>134.0</td>\n",
       "      <td>143.0</td>\n",
       "    </tr>\n",
       "    <tr>\n",
       "      <th>18203</th>\n",
       "      <td>243165</td>\n",
       "      <td>N. Christoffersson</td>\n",
       "      <td>19</td>\n",
       "      <td>Sweden</td>\n",
       "      <td>47</td>\n",
       "      <td>63</td>\n",
       "      <td>Trelleborgs FF</td>\n",
       "      <td>60.0</td>\n",
       "      <td>1.0</td>\n",
       "      <td>Right</td>\n",
       "      <td>1.0</td>\n",
       "      <td>2.0</td>\n",
       "      <td>ST</td>\n",
       "      <td>2018</td>\n",
       "      <td>2020-01-01</td>\n",
       "      <td>6.250000</td>\n",
       "      <td>170.0</td>\n",
       "      <td>113.0</td>\n",
       "    </tr>\n",
       "    <tr>\n",
       "      <th>18204</th>\n",
       "      <td>241638</td>\n",
       "      <td>B. Worman</td>\n",
       "      <td>16</td>\n",
       "      <td>England</td>\n",
       "      <td>47</td>\n",
       "      <td>67</td>\n",
       "      <td>Cambridge United</td>\n",
       "      <td>60.0</td>\n",
       "      <td>1.0</td>\n",
       "      <td>Right</td>\n",
       "      <td>1.0</td>\n",
       "      <td>2.0</td>\n",
       "      <td>ST</td>\n",
       "      <td>2017</td>\n",
       "      <td>2021-01-01</td>\n",
       "      <td>5.666667</td>\n",
       "      <td>148.0</td>\n",
       "      <td>165.0</td>\n",
       "    </tr>\n",
       "    <tr>\n",
       "      <th>18205</th>\n",
       "      <td>246268</td>\n",
       "      <td>D. Walker-Rice</td>\n",
       "      <td>17</td>\n",
       "      <td>England</td>\n",
       "      <td>47</td>\n",
       "      <td>66</td>\n",
       "      <td>Tranmere Rovers</td>\n",
       "      <td>60.0</td>\n",
       "      <td>1.0</td>\n",
       "      <td>Right</td>\n",
       "      <td>1.0</td>\n",
       "      <td>2.0</td>\n",
       "      <td>RW</td>\n",
       "      <td>2018</td>\n",
       "      <td>2019-01-01</td>\n",
       "      <td>5.833333</td>\n",
       "      <td>154.0</td>\n",
       "      <td>143.0</td>\n",
       "    </tr>\n",
       "    <tr>\n",
       "      <th>18206</th>\n",
       "      <td>246269</td>\n",
       "      <td>G. Nugent</td>\n",
       "      <td>16</td>\n",
       "      <td>England</td>\n",
       "      <td>46</td>\n",
       "      <td>66</td>\n",
       "      <td>Tranmere Rovers</td>\n",
       "      <td>60.0</td>\n",
       "      <td>1.0</td>\n",
       "      <td>Right</td>\n",
       "      <td>1.0</td>\n",
       "      <td>2.0</td>\n",
       "      <td>CM</td>\n",
       "      <td>2018</td>\n",
       "      <td>2019-01-01</td>\n",
       "      <td>5.833333</td>\n",
       "      <td>176.0</td>\n",
       "      <td>165.0</td>\n",
       "    </tr>\n",
       "  </tbody>\n",
       "</table>\n",
       "</div>"
      ],
      "text/plain": [
       "           ID                Name  Age Nationality  Overall  Potential  \\\n",
       "18202  238813        J. Lundstram   19     England       47         65   \n",
       "18203  243165  N. Christoffersson   19      Sweden       47         63   \n",
       "18204  241638           B. Worman   16     England       47         67   \n",
       "18205  246268      D. Walker-Rice   17     England       47         66   \n",
       "18206  246269           G. Nugent   16     England       46         66   \n",
       "\n",
       "                   Club  Value  Wage Preferred Foot  International Reputation  \\\n",
       "18202   Crewe Alexandra   60.0   1.0          Right                       1.0   \n",
       "18203    Trelleborgs FF   60.0   1.0          Right                       1.0   \n",
       "18204  Cambridge United   60.0   1.0          Right                       1.0   \n",
       "18205   Tranmere Rovers   60.0   1.0          Right                       1.0   \n",
       "18206   Tranmere Rovers   60.0   1.0          Right                       1.0   \n",
       "\n",
       "       Skill Moves Position  Joined Contract Valid Until    Height  Weight  \\\n",
       "18202          2.0       CM    2017           2019-01-01  5.750000   134.0   \n",
       "18203          2.0       ST    2018           2020-01-01  6.250000   170.0   \n",
       "18204          2.0       ST    2017           2021-01-01  5.666667   148.0   \n",
       "18205          2.0       RW    2018           2019-01-01  5.833333   154.0   \n",
       "18206          2.0       CM    2018           2019-01-01  5.833333   176.0   \n",
       "\n",
       "       Release Clause  \n",
       "18202           143.0  \n",
       "18203           113.0  \n",
       "18204           165.0  \n",
       "18205           143.0  \n",
       "18206           165.0  "
      ]
     },
     "execution_count": 3,
     "metadata": {},
     "output_type": "execute_result"
    }
   ],
   "source": [
    "df.tail() #Shows the bottom 5 data from the dataset"
   ]
  },
  {
   "cell_type": "code",
   "execution_count": 4,
   "id": "b2beef3a",
   "metadata": {
    "execution": {
     "iopub.execute_input": "2023-09-13T14:08:09.031261Z",
     "iopub.status.busy": "2023-09-13T14:08:09.030164Z",
     "iopub.status.idle": "2023-09-13T14:08:09.079255Z",
     "shell.execute_reply": "2023-09-13T14:08:09.078073Z"
    },
    "papermill": {
     "duration": 0.066191,
     "end_time": "2023-09-13T14:08:09.082122",
     "exception": false,
     "start_time": "2023-09-13T14:08:09.015931",
     "status": "completed"
    },
    "tags": []
   },
   "outputs": [
    {
     "data": {
      "text/plain": [
       "ID                            0\n",
       "Name                          0\n",
       "Age                           0\n",
       "Nationality                   0\n",
       "Overall                       0\n",
       "Potential                     0\n",
       "Club                        241\n",
       "Value                       252\n",
       "Wage                          0\n",
       "Preferred Foot                0\n",
       "International Reputation     48\n",
       "Skill Moves                  48\n",
       "Position                      0\n",
       "Joined                        0\n",
       "Contract Valid Until        289\n",
       "Height                        0\n",
       "Weight                        0\n",
       "Release Clause                0\n",
       "dtype: int64"
      ]
     },
     "execution_count": 4,
     "metadata": {},
     "output_type": "execute_result"
    }
   ],
   "source": [
    "df.isnull().sum() #This will give us the total sum of null value preset in each column."
   ]
  },
  {
   "cell_type": "markdown",
   "id": "df085893",
   "metadata": {
    "papermill": {
     "duration": 0.01318,
     "end_time": "2023-09-13T14:08:09.108563",
     "exception": false,
     "start_time": "2023-09-13T14:08:09.095383",
     "status": "completed"
    },
    "tags": []
   },
   "source": [
    "#### After calculating all the null value tuples, now we will remove those null tuples"
   ]
  },
  {
   "cell_type": "code",
   "execution_count": 5,
   "id": "c04a9700",
   "metadata": {
    "execution": {
     "iopub.execute_input": "2023-09-13T14:08:09.138583Z",
     "iopub.status.busy": "2023-09-13T14:08:09.137249Z",
     "iopub.status.idle": "2023-09-13T14:08:09.165167Z",
     "shell.execute_reply": "2023-09-13T14:08:09.163873Z"
    },
    "papermill": {
     "duration": 0.046622,
     "end_time": "2023-09-13T14:08:09.169235",
     "exception": false,
     "start_time": "2023-09-13T14:08:09.122613",
     "status": "completed"
    },
    "tags": []
   },
   "outputs": [],
   "source": [
    "df1 = df.dropna(subset = [\"Club\",'Value','International Reputation','Skill Moves','Contract Valid Until'])"
   ]
  },
  {
   "cell_type": "markdown",
   "id": "f164f612",
   "metadata": {
    "papermill": {
     "duration": 0.012283,
     "end_time": "2023-09-13T14:08:09.194577",
     "exception": false,
     "start_time": "2023-09-13T14:08:09.182294",
     "status": "completed"
    },
    "tags": []
   },
   "source": [
    "#### Lets give it a look whether we successfully removed all the null values from the datasets."
   ]
  },
  {
   "cell_type": "code",
   "execution_count": 6,
   "id": "d1ed4fab",
   "metadata": {
    "execution": {
     "iopub.execute_input": "2023-09-13T14:08:09.220582Z",
     "iopub.status.busy": "2023-09-13T14:08:09.220196Z",
     "iopub.status.idle": "2023-09-13T14:08:09.267888Z",
     "shell.execute_reply": "2023-09-13T14:08:09.266170Z"
    },
    "papermill": {
     "duration": 0.064845,
     "end_time": "2023-09-13T14:08:09.271432",
     "exception": false,
     "start_time": "2023-09-13T14:08:09.206587",
     "status": "completed"
    },
    "tags": []
   },
   "outputs": [
    {
     "data": {
      "text/plain": [
       "ID                          0\n",
       "Name                        0\n",
       "Age                         0\n",
       "Nationality                 0\n",
       "Overall                     0\n",
       "Potential                   0\n",
       "Club                        0\n",
       "Value                       0\n",
       "Wage                        0\n",
       "Preferred Foot              0\n",
       "International Reputation    0\n",
       "Skill Moves                 0\n",
       "Position                    0\n",
       "Joined                      0\n",
       "Contract Valid Until        0\n",
       "Height                      0\n",
       "Weight                      0\n",
       "Release Clause              0\n",
       "dtype: int64"
      ]
     },
     "execution_count": 6,
     "metadata": {},
     "output_type": "execute_result"
    }
   ],
   "source": [
    "df1.isnull().sum() #We successfully removed null values!"
   ]
  },
  {
   "cell_type": "markdown",
   "id": "00642c8e",
   "metadata": {
    "papermill": {
     "duration": 0.011798,
     "end_time": "2023-09-13T14:08:09.295879",
     "exception": false,
     "start_time": "2023-09-13T14:08:09.284081",
     "status": "completed"
    },
    "tags": []
   },
   "source": [
    "##### Now we are confident that our data is cleaned. Now, lets explore the dataset itself."
   ]
  },
  {
   "cell_type": "markdown",
   "id": "c66d901c",
   "metadata": {
    "papermill": {
     "duration": 0.011865,
     "end_time": "2023-09-13T14:08:09.319956",
     "exception": false,
     "start_time": "2023-09-13T14:08:09.308091",
     "status": "completed"
    },
    "tags": []
   },
   "source": [
    "##### Firstly, lets see total how many outliers we removed (Null values)"
   ]
  },
  {
   "cell_type": "code",
   "execution_count": 7,
   "id": "8fce2958",
   "metadata": {
    "execution": {
     "iopub.execute_input": "2023-09-13T14:08:09.346919Z",
     "iopub.status.busy": "2023-09-13T14:08:09.346469Z",
     "iopub.status.idle": "2023-09-13T14:08:09.354033Z",
     "shell.execute_reply": "2023-09-13T14:08:09.352966Z"
    },
    "papermill": {
     "duration": 0.024439,
     "end_time": "2023-09-13T14:08:09.356479",
     "exception": false,
     "start_time": "2023-09-13T14:08:09.332040",
     "status": "completed"
    },
    "tags": []
   },
   "outputs": [
    {
     "data": {
      "text/plain": [
       "300"
      ]
     },
     "execution_count": 7,
     "metadata": {},
     "output_type": "execute_result"
    }
   ],
   "source": [
    "df.shape[0] - df1.shape[0] #Here df was our original dataframe and df1 is dataframe without null values."
   ]
  },
  {
   "cell_type": "markdown",
   "id": "aba6a370",
   "metadata": {
    "papermill": {
     "duration": 0.011961,
     "end_time": "2023-09-13T14:08:09.381101",
     "exception": false,
     "start_time": "2023-09-13T14:08:09.369140",
     "status": "completed"
    },
    "tags": []
   },
   "source": [
    "##### We found out total of 300 outliers."
   ]
  },
  {
   "cell_type": "code",
   "execution_count": 8,
   "id": "144dc0a9",
   "metadata": {
    "execution": {
     "iopub.execute_input": "2023-09-13T14:08:09.408228Z",
     "iopub.status.busy": "2023-09-13T14:08:09.407809Z",
     "iopub.status.idle": "2023-09-13T14:08:09.415007Z",
     "shell.execute_reply": "2023-09-13T14:08:09.413790Z"
    },
    "papermill": {
     "duration": 0.023508,
     "end_time": "2023-09-13T14:08:09.417169",
     "exception": false,
     "start_time": "2023-09-13T14:08:09.393661",
     "status": "completed"
    },
    "tags": []
   },
   "outputs": [
    {
     "data": {
      "text/plain": [
       "((18207, 18), (17907, 18))"
      ]
     },
     "execution_count": 8,
     "metadata": {},
     "output_type": "execute_result"
    }
   ],
   "source": [
    "ab = (df.shape,df1.shape) #Shape of original and new dataframe.\n",
    "ab"
   ]
  },
  {
   "cell_type": "markdown",
   "id": "1d78ef20",
   "metadata": {
    "papermill": {
     "duration": 0.01263,
     "end_time": "2023-09-13T14:08:09.442286",
     "exception": false,
     "start_time": "2023-09-13T14:08:09.429656",
     "status": "completed"
    },
    "tags": []
   },
   "source": [
    "##### Lets see now how many unique atrributes our datasets got."
   ]
  },
  {
   "cell_type": "code",
   "execution_count": 9,
   "id": "25062ee7",
   "metadata": {
    "execution": {
     "iopub.execute_input": "2023-09-13T14:08:09.470709Z",
     "iopub.status.busy": "2023-09-13T14:08:09.470307Z",
     "iopub.status.idle": "2023-09-13T14:08:09.501984Z",
     "shell.execute_reply": "2023-09-13T14:08:09.500870Z"
    },
    "papermill": {
     "duration": 0.049728,
     "end_time": "2023-09-13T14:08:09.505166",
     "exception": false,
     "start_time": "2023-09-13T14:08:09.455438",
     "status": "completed"
    },
    "tags": []
   },
   "outputs": [
    {
     "name": "stdout",
     "output_type": "stream",
     "text": [
      "ID 17907\n",
      "Name 16913\n",
      "Age 28\n",
      "Nationality 163\n",
      "Overall 48\n",
      "Potential 47\n",
      "Club 651\n",
      "Value 216\n",
      "Wage 143\n",
      "Preferred Foot 2\n",
      "International Reputation 5\n",
      "Skill Moves 5\n",
      "Position 27\n",
      "Joined 22\n",
      "Contract Valid Until 35\n",
      "Height 21\n",
      "Weight 57\n",
      "Release Clause 1245\n"
     ]
    }
   ],
   "source": [
    "for f in df.columns:\n",
    "    print(f,df1[f].nunique())"
   ]
  },
  {
   "cell_type": "markdown",
   "id": "285496a3",
   "metadata": {
    "papermill": {
     "duration": 0.012699,
     "end_time": "2023-09-13T14:08:09.531073",
     "exception": false,
     "start_time": "2023-09-13T14:08:09.518374",
     "status": "completed"
    },
    "tags": []
   },
   "source": [
    "#### Now, Lets see Ages of the players how are these distributed."
   ]
  },
  {
   "cell_type": "code",
   "execution_count": 10,
   "id": "57e3d268",
   "metadata": {
    "execution": {
     "iopub.execute_input": "2023-09-13T14:08:09.558844Z",
     "iopub.status.busy": "2023-09-13T14:08:09.558371Z",
     "iopub.status.idle": "2023-09-13T14:08:10.276767Z",
     "shell.execute_reply": "2023-09-13T14:08:10.275550Z"
    },
    "papermill": {
     "duration": 0.735403,
     "end_time": "2023-09-13T14:08:10.279466",
     "exception": false,
     "start_time": "2023-09-13T14:08:09.544063",
     "status": "completed"
    },
    "tags": []
   },
   "outputs": [
    {
     "name": "stdout",
     "output_type": "stream",
     "text": [
      "25.0\n"
     ]
    },
    {
     "data": {
      "text/plain": [
       "<Axes: xlabel='Age', ylabel='Count'>"
      ]
     },
     "execution_count": 10,
     "metadata": {},
     "output_type": "execute_result"
    },
    {
     "data": {
      "image/png": "[encoded data removed]",
      "text/plain": [
       "<Figure size 640x480 with 1 Axes>"
      ]
     },
     "metadata": {},
     "output_type": "display_data"
    }
   ],
   "source": [
    "print(df1[\"Age\"].median())\n",
    "sns.histplot(df1.Age,kde='True')"
   ]
  },
  {
   "cell_type": "markdown",
   "id": "b615fad3",
   "metadata": {
    "papermill": {
     "duration": 0.01294,
     "end_time": "2023-09-13T14:08:10.305845",
     "exception": false,
     "start_time": "2023-09-13T14:08:10.292905",
     "status": "completed"
    },
    "tags": []
   },
   "source": [
    " ##### Here, we can see our age median is 25 and we can also notice that majority of players are closer to age 25."
   ]
  },
  {
   "cell_type": "code",
   "execution_count": 11,
   "id": "0b92c9c8",
   "metadata": {
    "execution": {
     "iopub.execute_input": "2023-09-13T14:08:10.333933Z",
     "iopub.status.busy": "2023-09-13T14:08:10.333493Z",
     "iopub.status.idle": "2023-09-13T14:08:10.617699Z",
     "shell.execute_reply": "2023-09-13T14:08:10.616683Z"
    },
    "papermill": {
     "duration": 0.301418,
     "end_time": "2023-09-13T14:08:10.620352",
     "exception": false,
     "start_time": "2023-09-13T14:08:10.318934",
     "status": "completed"
    },
    "tags": []
   },
   "outputs": [
    {
     "data": {
      "text/plain": [
       "<Axes: xlabel='Preferred Foot', ylabel='count'>"
      ]
     },
     "execution_count": 11,
     "metadata": {},
     "output_type": "execute_result"
    },
    {
     "data": {
      "image/png": "[encoded data removed]",
      "text/plain": [
       "<Figure size 640x480 with 1 Axes>"
      ]
     },
     "metadata": {},
     "output_type": "display_data"
    }
   ],
   "source": [
    "sns.countplot(x='Preferred Foot',data=df1)"
   ]
  },
  {
   "cell_type": "markdown",
   "id": "bff356e8",
   "metadata": {
    "papermill": {
     "duration": 0.013684,
     "end_time": "2023-09-13T14:08:10.648823",
     "exception": false,
     "start_time": "2023-09-13T14:08:10.635139",
     "status": "completed"
    },
    "tags": []
   },
   "source": [
    "##### Here, we can see most players are Right footed.We can also check what is the percentages of the same plot."
   ]
  },
  {
   "cell_type": "code",
   "execution_count": 12,
   "id": "0b0b5cbb",
   "metadata": {
    "execution": {
     "iopub.execute_input": "2023-09-13T14:08:10.682053Z",
     "iopub.status.busy": "2023-09-13T14:08:10.681669Z",
     "iopub.status.idle": "2023-09-13T14:08:10.845471Z",
     "shell.execute_reply": "2023-09-13T14:08:10.843862Z"
    },
    "papermill": {
     "duration": 0.185238,
     "end_time": "2023-09-13T14:08:10.849167",
     "exception": false,
     "start_time": "2023-09-13T14:08:10.663929",
     "status": "completed"
    },
    "tags": []
   },
   "outputs": [
    {
     "data": {
      "image/png": "[encoded data removed]",
      "text/plain": [
       "<Figure size 700x600 with 1 Axes>"
      ]
     },
     "metadata": {},
     "output_type": "display_data"
    }
   ],
   "source": [
    "plt.subplots(figsize=(7,6))\n",
    "plt.pie(df1[\"Preferred Foot\"].value_counts(),labels=[\"Right\",\"Left\"],autopct='%1.1f%%')\n",
    "plt.show()"
   ]
  },
  {
   "cell_type": "markdown",
   "id": "7e6a8d54",
   "metadata": {
    "papermill": {
     "duration": 0.024422,
     "end_time": "2023-09-13T14:08:10.903933",
     "exception": false,
     "start_time": "2023-09-13T14:08:10.879511",
     "status": "completed"
    },
    "tags": []
   },
   "source": [
    "#### Lets see, Top 10 nationality from which most of the players belong."
   ]
  },
  {
   "cell_type": "code",
   "execution_count": 13,
   "id": "4d6c9068",
   "metadata": {
    "execution": {
     "iopub.execute_input": "2023-09-13T14:08:10.937798Z",
     "iopub.status.busy": "2023-09-13T14:08:10.937404Z",
     "iopub.status.idle": "2023-09-13T14:08:10.949208Z",
     "shell.execute_reply": "2023-09-13T14:08:10.948031Z"
    },
    "papermill": {
     "duration": 0.031205,
     "end_time": "2023-09-13T14:08:10.951808",
     "exception": false,
     "start_time": "2023-09-13T14:08:10.920603",
     "status": "completed"
    },
    "tags": []
   },
   "outputs": [
    {
     "data": {
      "text/plain": [
       "England      1655\n",
       "Germany      1195\n",
       "Spain        1071\n",
       "Argentina     935\n",
       "France        910\n",
       "             ... \n",
       "Guam            1\n",
       "Fiji            1\n",
       "Liberia         1\n",
       "Mauritius       1\n",
       "Botswana        1\n",
       "Name: Nationality, Length: 163, dtype: int64"
      ]
     },
     "execution_count": 13,
     "metadata": {},
     "output_type": "execute_result"
    }
   ],
   "source": [
    "df1['Nationality'].value_counts()"
   ]
  },
  {
   "cell_type": "code",
   "execution_count": 14,
   "id": "2bc0dc56",
   "metadata": {
    "execution": {
     "iopub.execute_input": "2023-09-13T14:08:10.985271Z",
     "iopub.status.busy": "2023-09-13T14:08:10.984043Z",
     "iopub.status.idle": "2023-09-13T14:08:11.466830Z",
     "shell.execute_reply": "2023-09-13T14:08:11.465707Z"
    },
    "papermill": {
     "duration": 0.502304,
     "end_time": "2023-09-13T14:08:11.469506",
     "exception": false,
     "start_time": "2023-09-13T14:08:10.967202",
     "status": "completed"
    },
    "tags": []
   },
   "outputs": [
    {
     "data": {
      "text/plain": [
       "Text(0, 0.5, 'Count')"
      ]
     },
     "execution_count": 14,
     "metadata": {},
     "output_type": "execute_result"
    },
    {
     "data": {
      "image/png": "[encoded data removed]",
      "text/plain": [
       "<Figure size 640x480 with 1 Axes>"
      ]
     },
     "metadata": {},
     "output_type": "display_data"
    }
   ],
   "source": [
    "ax = df1['Nationality'].value_counts() \\\n",
    ".head(10) \\\n",
    ".plot(kind='bar',title='Top 10 Nationality')\n",
    "ax.set_xlabel(\"Countries\")\n",
    "ax.set_ylabel(\"Count\")"
   ]
  },
  {
   "cell_type": "markdown",
   "id": "8eadabfe",
   "metadata": {
    "papermill": {
     "duration": 0.015064,
     "end_time": "2023-09-13T14:08:11.499759",
     "exception": false,
     "start_time": "2023-09-13T14:08:11.484695",
     "status": "completed"
    },
    "tags": []
   },
   "source": [
    "#### Now, lets draw heatmap to check how closely related our categorical values are to each other"
   ]
  },
  {
   "cell_type": "code",
   "execution_count": 15,
   "id": "5e0c74f4",
   "metadata": {
    "execution": {
     "iopub.execute_input": "2023-09-13T14:08:11.532919Z",
     "iopub.status.busy": "2023-09-13T14:08:11.532475Z",
     "iopub.status.idle": "2023-09-13T14:08:11.548081Z",
     "shell.execute_reply": "2023-09-13T14:08:11.546837Z"
    },
    "papermill": {
     "duration": 0.035416,
     "end_time": "2023-09-13T14:08:11.550813",
     "exception": false,
     "start_time": "2023-09-13T14:08:11.515397",
     "status": "completed"
    },
    "tags": []
   },
   "outputs": [
    {
     "data": {
      "text/html": [
       "<div>\n",
       "<style scoped>\n",
       "    .dataframe tbody tr th:only-of-type {\n",
       "        vertical-align: middle;\n",
       "    }\n",
       "\n",
       "    .dataframe tbody tr th {\n",
       "        vertical-align: top;\n",
       "    }\n",
       "\n",
       "    .dataframe thead th {\n",
       "        text-align: right;\n",
       "    }\n",
       "</style>\n",
       "<table border=\"1\" class=\"dataframe\">\n",
       "  <thead>\n",
       "    <tr style=\"text-align: right;\">\n",
       "      <th></th>\n",
       "      <th>Overall</th>\n",
       "      <th>Value</th>\n",
       "      <th>Wage</th>\n",
       "    </tr>\n",
       "  </thead>\n",
       "  <tbody>\n",
       "    <tr>\n",
       "      <th>Overall</th>\n",
       "      <td>1.000000</td>\n",
       "      <td>0.631673</td>\n",
       "      <td>0.576098</td>\n",
       "    </tr>\n",
       "    <tr>\n",
       "      <th>Value</th>\n",
       "      <td>0.631673</td>\n",
       "      <td>1.000000</td>\n",
       "      <td>0.858037</td>\n",
       "    </tr>\n",
       "    <tr>\n",
       "      <th>Wage</th>\n",
       "      <td>0.576098</td>\n",
       "      <td>0.858037</td>\n",
       "      <td>1.000000</td>\n",
       "    </tr>\n",
       "  </tbody>\n",
       "</table>\n",
       "</div>"
      ],
      "text/plain": [
       "          Overall     Value      Wage\n",
       "Overall  1.000000  0.631673  0.576098\n",
       "Value    0.631673  1.000000  0.858037\n",
       "Wage     0.576098  0.858037  1.000000"
      ]
     },
     "execution_count": 15,
     "metadata": {},
     "output_type": "execute_result"
    }
   ],
   "source": [
    "df_corr = df1[['Overall','Value','Wage']].corr()\n",
    "df_corr"
   ]
  },
  {
   "cell_type": "code",
   "execution_count": 16,
   "id": "fbb880d8",
   "metadata": {
    "execution": {
     "iopub.execute_input": "2023-09-13T14:08:11.584541Z",
     "iopub.status.busy": "2023-09-13T14:08:11.584161Z",
     "iopub.status.idle": "2023-09-13T14:08:11.968886Z",
     "shell.execute_reply": "2023-09-13T14:08:11.967466Z"
    },
    "papermill": {
     "duration": 0.40462,
     "end_time": "2023-09-13T14:08:11.971460",
     "exception": false,
     "start_time": "2023-09-13T14:08:11.566840",
     "status": "completed"
    },
    "tags": []
   },
   "outputs": [
    {
     "data": {
      "text/plain": [
       "<Axes: >"
      ]
     },
     "execution_count": 16,
     "metadata": {},
     "output_type": "execute_result"
    },
    {
     "data": {
      "image/png": "[encoded data removed]",
      "text/plain": [
       "<Figure size 640x480 with 2 Axes>"
      ]
     },
     "metadata": {},
     "output_type": "display_data"
    }
   ],
   "source": [
    "sns.heatmap(df_corr,annot=True)"
   ]
  },
  {
   "cell_type": "markdown",
   "id": "8cf314fe",
   "metadata": {
    "papermill": {
     "duration": 0.016309,
     "end_time": "2023-09-13T14:08:12.004320",
     "exception": false,
     "start_time": "2023-09-13T14:08:11.988011",
     "status": "completed"
    },
    "tags": []
   },
   "source": [
    "##### Here, we can clearly see on our heatmap that \"Value\" is pretty closely related to \"Wage\", so lets visualize this using scatterplot."
   ]
  },
  {
   "cell_type": "code",
   "execution_count": 17,
   "id": "91e274a0",
   "metadata": {
    "execution": {
     "iopub.execute_input": "2023-09-13T14:08:12.038748Z",
     "iopub.status.busy": "2023-09-13T14:08:12.038347Z",
     "iopub.status.idle": "2023-09-13T14:08:12.393950Z",
     "shell.execute_reply": "2023-09-13T14:08:12.392851Z"
    },
    "papermill": {
     "duration": 0.375386,
     "end_time": "2023-09-13T14:08:12.396531",
     "exception": false,
     "start_time": "2023-09-13T14:08:12.021145",
     "status": "completed"
    },
    "tags": []
   },
   "outputs": [
    {
     "data": {
      "image/png": "[encoded data removed]",
      "text/plain": [
       "<Figure size 640x480 with 1 Axes>"
      ]
     },
     "metadata": {},
     "output_type": "display_data"
    }
   ],
   "source": [
    "ax = sns.scatterplot(x='Wage',\n",
    "               y=\"Value\",\n",
    "              data=df1)\n",
    "ax.set_title(\"Value vs Wage\")\n",
    "plt.show()"
   ]
  },
  {
   "cell_type": "markdown",
   "id": "bd4538e9",
   "metadata": {
    "papermill": {
     "duration": 0.017081,
     "end_time": "2023-09-13T14:08:12.430566",
     "exception": false,
     "start_time": "2023-09-13T14:08:12.413485",
     "status": "completed"
    },
    "tags": []
   },
   "source": [
    "##### After plotting we are pretty confident that this plot has indeed a positive correlationship. In other word we can clearly see as players wage is increasing the value on the other hand is also increasing. "
   ]
  },
  {
   "cell_type": "markdown",
   "id": "13faf810",
   "metadata": {
    "papermill": {
     "duration": 0.01883,
     "end_time": "2023-09-13T14:08:12.466361",
     "exception": false,
     "start_time": "2023-09-13T14:08:12.447531",
     "status": "completed"
    },
    "tags": []
   },
   "source": [
    "#### Thank you for having a look on my EDA as this is my very first EDA and I am new to data science, any further improvement or comments are appreciated."
   ]
  },
  {
   "cell_type": "code",
   "execution_count": null,
   "id": "84a721b8",
   "metadata": {
    "papermill": {
     "duration": 0.016537,
     "end_time": "2023-09-13T14:08:12.500938",
     "exception": false,
     "start_time": "2023-09-13T14:08:12.484401",
     "status": "completed"
    },
    "tags": []
   },
   "outputs": [],
   "source": []
  }
 ],
 "kernelspec": {
  "display_name": "Python 3",
  "language": "python",
  "name": "python3"
 },
 "language_info": {
  "codemirror_mode": {
   "name": "ipython",
   "version": 3
  },
  "file_extension": ".py",
  "mimetype": "text/x-python",
  "name": "python",
  "nbconvert_exporter": "python",
  "pygments_lexer": "ipython3",
  "version": "3.6.4"
 },
 "metadata": {
  "kernelspec": {
   "display_name": "Python 3",
   "language": "python",
   "name": "python3"
  },
  "language_info": {
   "codemirror_mode": {
    "name": "ipython",
    "version": 3
   },
   "file_extension": ".py",
   "mimetype": "text/x-python",
   "name": "python",
   "nbconvert_exporter": "python",
   "pygments_lexer": "ipython3",
   "version": "3.10.10"
  },
  "papermill": {
   "default_parameters": {},
   "duration": 20.477739,
   "end_time": "2023-09-13T14:08:13.541177",
   "environment_variables": {},
   "exception": null,
   "input_path": "__notebook__.ipynb",
   "output_path": "__notebook__.ipynb",
   "parameters": {},
   "start_time": "2023-09-13T14:07:53.063438",
   "version": "2.4.0"
  }
 },
 "nbformat": 4,
 "nbformat_minor": 5
}
